{
 "cells": [
  {
   "cell_type": "code",
   "execution_count": 1,
   "metadata": {},
   "outputs": [],
   "source": [
    "import numpy as np\n",
    "\n",
    "np.random.seed(50)\n",
    "num_observations = 7000\n",
    "\n",
    "x1 = np.random.multivariate_normal([0, 0], [[1, .75],[.75, 1]], num_observations)\n",
    "x2 = np.random.multivariate_normal([1, 4], [[1, .75],[.75, 1]], num_observations)\n",
    "\n",
    "features = np.vstack((x1, x2)).astype(np.float32)\n",
    "labels = np.hstack((np.zeros(num_observations), np.ones(num_observations)))"
   ]
  },
  {
   "cell_type": "code",
   "execution_count": 2,
   "metadata": {},
   "outputs": [],
   "source": [
    "def sigmoid_calculation(scores):\n",
    "    return 1 / (1 + np.exp(-scores))"
   ]
  },
  {
   "cell_type": "code",
   "execution_count": 3,
   "metadata": {},
   "outputs": [],
   "source": [
    "def l1_calculation(features, target, weights):\n",
    "    scores = np.dot(features, weights)\n",
    "    ll = np.sum(target*scores - np.log(1 + np.exp(scores)))\n",
    "    return ll"
   ]
  },
  {
   "cell_type": "code",
   "execution_count": 4,
   "metadata": {},
   "outputs": [],
   "source": [
    "def logistic_regression_scratch(add_intercept, features, target, num_steps, learning_rate):\n",
    "    if add_intercept:\n",
    "        intercept = np.ones((features.shape[0], 1))\n",
    "        features = np.hstack((intercept, features))        \n",
    "    weights = np.zeros(features.shape[1])    \n",
    "    for step in range(num_steps):\n",
    "        scores = np.dot(features, weights)\n",
    "        predictions = sigmoid_calculation(scores)        \n",
    "        output_error_signal = target - predictions        \n",
    "        gradient = np.dot(features.T, output_error_signal)\n",
    "        weights += learning_rate * gradient        \n",
    "        if step % 10000 == 0:\n",
    "            print(l1_calculation(features, target, weights))        \n",
    "    return weights"
   ]
  },
  {
   "cell_type": "code",
   "execution_count": 5,
   "metadata": {
    "scrolled": false
   },
   "outputs": [
    {
     "name": "stdout",
     "output_type": "stream",
     "text": [
      "-5910.224466188034\n",
      "-215.14131257292144\n",
      "-210.92053878660204\n",
      "-210.16078383476204\n",
      "-209.97474804416817\n"
     ]
    }
   ],
   "source": [
    "weights = logistic_regression_scratch(add_intercept=True, features=features, target=labels, num_steps=50000, learning_rate=5e-5)"
   ]
  },
  {
   "cell_type": "code",
   "execution_count": 6,
   "metadata": {},
   "outputs": [
    {
     "name": "stdout",
     "output_type": "stream",
     "text": [
      "[-13.44976583  -4.83354338   7.78664271]\n"
     ]
    }
   ],
   "source": [
    "print(weights)"
   ]
  },
  {
   "cell_type": "code",
   "execution_count": 7,
   "metadata": {
    "scrolled": true
   },
   "outputs": [
    {
     "name": "stdout",
     "output_type": "stream",
     "text": [
      "Accuracy L1 scratch: 0.9937857142857143\n"
     ]
    }
   ],
   "source": [
    "final_scores = np.dot(np.hstack((np.ones((features.shape[0], 1)),features)), weights)\n",
    "preds = np.round(sigmoid_calculation(final_scores))\n",
    "\n",
    "print('Accuracy L1 scratch: {0}'.format((preds == labels).sum().astype(float) / len(preds)))"
   ]
  }
 ],
 "metadata": {
  "anaconda-cloud": {},
  "kernelspec": {
   "display_name": "Python 3",
   "language": "python",
   "name": "python3"
  },
  "language_info": {
   "codemirror_mode": {
    "name": "ipython",
    "version": 3
   },
   "file_extension": ".py",
   "mimetype": "text/x-python",
   "name": "python",
   "nbconvert_exporter": "python",
   "pygments_lexer": "ipython3",
   "version": "3.6.5"
  }
 },
 "nbformat": 4,
 "nbformat_minor": 1
}
