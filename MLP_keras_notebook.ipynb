{
 "cells": [
  {
   "cell_type": "markdown",
   "metadata": {
    "colab_type": "text",
    "id": "4y8-9cHihZqt"
   },
   "source": [
    "# Multi-Layer Perceptron - TensorFlow Keras\n",
    "\n",
    "In this scenario of **Deep Learning** you will be constructing a **Multi-Layer Perceptron using Tensorflow keras**.This model will then be trained to predict the classes of wine dataset provided. "
   ]
  },
  {
   "cell_type": "markdown",
   "metadata": {
    "colab_type": "text",
    "id": "DRq0lZuwjYoX"
   },
   "source": [
    "### Import the required packages"
   ]
  },
  {
   "cell_type": "code",
   "execution_count": 1,
   "metadata": {
    "colab": {},
    "colab_type": "code",
    "id": "5fRPtuN-hZrH",
    "pycharm": {
     "is_executing": true
    }
   },
   "outputs": [],
   "source": [
    "import io\n",
    "import pandas as pd\n",
    "import numpy as np\n",
    "from sklearn.model_selection import GridSearchCV, cross_val_score, KFold, cross_val_predict, train_test_split\n",
    "import pandas as pd\n",
    "import pylab \n",
    "import seaborn as sns\n",
    "sns.set(style=\"ticks\", color_codes=True, font_scale=1.5)\n",
    "from matplotlib import pyplot as plt\n",
    "from IPython.display import Image\n",
    "from sklearn import metrics\n",
    "from sklearn.preprocessing import LabelEncoder,StandardScaler\n",
    "from keras.models import Sequential\n",
    "from keras.layers import Dense\n",
    "from sklearn.model_selection import train_test_split\n",
    "from sklearn.metrics import auc, accuracy_score\n"
   ]
  },
  {
   "cell_type": "markdown",
   "metadata": {
    "colab_type": "text",
    "id": "XH-luciJSFDb"
   },
   "source": [
    "### Load the Dataset"
   ]
  },
  {
   "cell_type": "code",
   "execution_count": 2,
   "metadata": {
    "colab": {},
    "colab_type": "code",
    "id": "fvK5F0ZQR9qw"
   },
   "outputs": [
    {
     "data": {
      "text/plain": [
       "(6497, 13)"
      ]
     },
     "execution_count": 2,
     "metadata": {},
     "output_type": "execute_result"
    }
   ],
   "source": [
    "# Dataset to be stored in a Pandas Dataframe\n",
    "data_path = './wine.csv'\n",
    "df = pd.read_csv(data_path)\n",
    "df.shape\n"
   ]
  },
  {
   "cell_type": "markdown",
   "metadata": {
    "colab_type": "text",
    "id": "m6_2wD0jSRnp"
   },
   "source": [
    "### Function to Label Encode "
   ]
  },
  {
   "cell_type": "code",
   "execution_count": 3,
   "metadata": {
    "colab": {},
    "colab_type": "code",
    "id": "6meLeeXxScN_"
   },
   "outputs": [],
   "source": [
    "#Function to encode the given array values using label Encoder\n",
    "def encoding(values):\n",
    "\n",
    "    '''\n",
    "    Input: Array to be encoded\n",
    "    output: Encoded Array\n",
    "    '''\n",
    "\n",
    "  #------------START CODE---------\n",
    "\n",
    "  #create an object of Label Encoder\n",
    "    enc=LabelEncoder()\n",
    "\n",
    "  #fit transform the values and return \n",
    "\n",
    "    transformed_values=enc.fit_transform(values)\n",
    "\n",
    "  #-----------END CODE------------------\n",
    "    return transformed_values\n"
   ]
  },
  {
   "cell_type": "markdown",
   "metadata": {
    "colab_type": "text",
    "id": "xaRD248QShcl"
   },
   "source": [
    "### Preprocess"
   ]
  },
  {
   "cell_type": "code",
   "execution_count": 4,
   "metadata": {
    "colab": {},
    "colab_type": "code",
    "id": "ORu3M5RaSmZE"
   },
   "outputs": [],
   "source": [
    "def pre_process(df):\n",
    "    '''\n",
    "    Input: Dataframe\n",
    "    output: Pre-processed Data frame after removing null values and encoding labels\n",
    "    '''\n",
    "    #----------START CODE----------\n",
    "\n",
    "    #Remove null value with inplace parameter set to \"True\"\n",
    "    df.dropna(inplace=True)\n",
    "\n",
    "    #1.Encode the \"type\" labels of dataframe to 1 and 0 with LabelEncoder (White:1, Red:0) \n",
    "    #2.add the transformed values to a new column named \"color\" to the dataframe\n",
    "    #3.Note: Use the function \"encoding\" defined above\n",
    "    y=encoding(df['type'])\n",
    "    df['color'] = y\n",
    "    \n",
    "\n",
    "\n",
    "    #-------------END CODE----------\n",
    "    return df"
   ]
  },
  {
   "cell_type": "markdown",
   "metadata": {
    "colab_type": "text",
    "id": "qe6Hh8tpS7KM"
   },
   "source": [
    "### Standard Scaler\n",
    "\n"
   ]
  },
  {
   "cell_type": "code",
   "execution_count": 5,
   "metadata": {
    "colab": {},
    "colab_type": "code",
    "id": "FBFvFjXohykd"
   },
   "outputs": [],
   "source": [
    "#function to scale the values\n",
    "def scaler(X):\n",
    "\n",
    "    '''\n",
    "    Input:Input Features to be transformed\n",
    "    Output:scaled features\n",
    "\n",
    "    '''\n",
    "    #-------------START CODE---------\n",
    "\n",
    "\n",
    "    #Create an object of standard scaler\n",
    "    scaler=StandardScaler().fit(X)\n",
    "\n",
    "    #Fit transform and return\n",
    "    x=scaler.fit_transform(X)\n",
    "\n",
    "    #--------END CODE--------------\n",
    "    return x\n",
    "\n",
    "\n"
   ]
  },
  {
   "cell_type": "markdown",
   "metadata": {
    "colab_type": "text",
    "id": "qmSbWm-0TYry"
   },
   "source": [
    "### Split the Dataset"
   ]
  },
  {
   "cell_type": "code",
   "execution_count": 6,
   "metadata": {
    "colab": {},
    "colab_type": "code",
    "id": "849UeY9HTdHT"
   },
   "outputs": [],
   "source": [
    "def split_scale(df):\n",
    "    '''\n",
    "    Input: Preprocessed Dataframe\n",
    "    Output: Training and testing set scaled \n",
    "    '''\n",
    "\n",
    "    #------------------START CODE-----------------\n",
    "\n",
    "\n",
    "    #shuffle the dataframe with the old index dropped\n",
    "#     df = df.sample(frac=1).reset_index(drop=True)\n",
    "\n",
    "    #1.consider \"color\" values as labels (Y)\n",
    "    #2.drop the columns \"type\" and \"color\" from features X \n",
    "    Y= df['color']\n",
    "    X= df.drop(['color','type'] , axis=1)\n",
    "\n",
    "    #Split the data with the train_test_split function of sklearn with parameters test_size=0.2 and random_state=101\n",
    "    X_train, X_test, y_train, y_test = train_test_split(X, Y, train_size=0.8,test_size = 0.2, random_state=101)\n",
    "\n",
    "    #Scale X_train and X_test with \"scaler\" function defined\n",
    "    X_train=scaler(X_train)\n",
    "    X_test=scaler(X_test)\n",
    "\n",
    "    #------------------END CODE-----------\n",
    "\n",
    "    return (X_train, X_test, y_train, y_test)\n",
    "\n",
    "\n"
   ]
  },
  {
   "cell_type": "markdown",
   "metadata": {
    "colab_type": "text",
    "id": "1QeL_1JmUxX-"
   },
   "source": [
    "### Create the MLP model"
   ]
  },
  {
   "cell_type": "code",
   "execution_count": 7,
   "metadata": {
    "colab": {},
    "colab_type": "code",
    "id": "973ofLviVXUv"
   },
   "outputs": [],
   "source": [
    "def model_mlp():   \n",
    "    \"\"\"\n",
    "    Construct a fully-connected network structure defined using dense class\n",
    "    Create a sequential model\n",
    "    Use adam optimizer, binary cross entropy and accuracy as metrics for compiling the model\n",
    "    Return the compiled model\n",
    "\n",
    "    ----------------------------------\n",
    "    1.The model expects rows of data with 12 variables (the input_dim=12 argument)\n",
    "    2.The first hidden layer has 64 nodes and uses the relu activation function.\n",
    "    3.The second hidden layer has 32 nodes and uses the relu activation function.\n",
    "    3.The third hidden layer has 16 nodes and uses the relu activation function.\n",
    "    4.The output layer has one node and uses the sigmoid activation function.\n",
    "    \"\"\"\n",
    "\n",
    "    model = Sequential()\n",
    "    model.add(Dense(64, input_shape=(12,),activation='relu'))\n",
    "    model.add(Dense(32,activation='relu'))\n",
    "    model.add(Dense(16,activation='relu'))\n",
    "    model.add(Dense(1,activation='sigmoid'))\n",
    "    model.compile(loss='binary_crossentropy',optimizer='adam',metrics=['accuracy'])\n",
    "\n",
    "\n",
    "    return model\n"
   ]
  },
  {
   "cell_type": "markdown",
   "metadata": {
    "colab_type": "text",
    "id": "t4QJH7sr-DNP"
   },
   "source": [
    "### Time to call the functions"
   ]
  },
  {
   "cell_type": "code",
   "execution_count": 8,
   "metadata": {
    "colab": {},
    "colab_type": "code",
    "id": "TsesCpIU905b"
   },
   "outputs": [
    {
     "name": "stdout",
     "output_type": "stream",
     "text": [
      "Epoch 1/40\n",
      "83/83 [==============================] - 1s 5ms/step - loss: 0.2389 - accuracy: 0.9497 - val_loss: 0.0370 - val_accuracy: 0.9903\n",
      "Epoch 2/40\n",
      "83/83 [==============================] - 0s 2ms/step - loss: 0.0362 - accuracy: 0.9925 - val_loss: 0.0197 - val_accuracy: 0.9942\n",
      "Epoch 3/40\n",
      "83/83 [==============================] - 0s 2ms/step - loss: 0.0277 - accuracy: 0.9952 - val_loss: 0.0154 - val_accuracy: 0.9971\n",
      "Epoch 4/40\n",
      "83/83 [==============================] - 0s 2ms/step - loss: 0.0239 - accuracy: 0.9959 - val_loss: 0.0138 - val_accuracy: 0.9981\n",
      "Epoch 5/40\n",
      "83/83 [==============================] - 0s 2ms/step - loss: 0.0212 - accuracy: 0.9961 - val_loss: 0.0137 - val_accuracy: 0.9971\n",
      "Epoch 6/40\n",
      "83/83 [==============================] - 0s 2ms/step - loss: 0.0194 - accuracy: 0.9961 - val_loss: 0.0119 - val_accuracy: 0.9990\n",
      "Epoch 7/40\n",
      "83/83 [==============================] - 0s 2ms/step - loss: 0.0176 - accuracy: 0.9961 - val_loss: 0.0107 - val_accuracy: 0.9990\n",
      "Epoch 8/40\n",
      "83/83 [==============================] - 0s 2ms/step - loss: 0.0158 - accuracy: 0.9966 - val_loss: 0.0110 - val_accuracy: 0.9990\n",
      "Epoch 9/40\n",
      "83/83 [==============================] - 0s 2ms/step - loss: 0.0143 - accuracy: 0.9969 - val_loss: 0.0119 - val_accuracy: 0.9990\n",
      "Epoch 10/40\n",
      "83/83 [==============================] - 0s 2ms/step - loss: 0.0129 - accuracy: 0.9973 - val_loss: 0.0115 - val_accuracy: 0.9990\n",
      "Epoch 11/40\n",
      "83/83 [==============================] - 0s 2ms/step - loss: 0.0127 - accuracy: 0.9969 - val_loss: 0.0113 - val_accuracy: 0.9990\n",
      "Epoch 12/40\n",
      "83/83 [==============================] - 0s 2ms/step - loss: 0.0115 - accuracy: 0.9973 - val_loss: 0.0109 - val_accuracy: 0.9990\n",
      "Epoch 13/40\n",
      "83/83 [==============================] - 0s 2ms/step - loss: 0.0107 - accuracy: 0.9973 - val_loss: 0.0123 - val_accuracy: 0.9981\n",
      "Epoch 14/40\n",
      "83/83 [==============================] - 0s 2ms/step - loss: 0.0100 - accuracy: 0.9971 - val_loss: 0.0116 - val_accuracy: 0.9990\n",
      "Epoch 15/40\n",
      "83/83 [==============================] - 0s 2ms/step - loss: 0.0093 - accuracy: 0.9971 - val_loss: 0.0142 - val_accuracy: 0.9981\n",
      "Epoch 16/40\n",
      "83/83 [==============================] - 0s 2ms/step - loss: 0.0084 - accuracy: 0.9978 - val_loss: 0.0145 - val_accuracy: 0.9981\n",
      "Epoch 17/40\n",
      "83/83 [==============================] - 0s 2ms/step - loss: 0.0079 - accuracy: 0.9978 - val_loss: 0.0159 - val_accuracy: 0.9981\n",
      "Epoch 18/40\n",
      "83/83 [==============================] - 0s 2ms/step - loss: 0.0072 - accuracy: 0.9976 - val_loss: 0.0178 - val_accuracy: 0.9981\n",
      "Epoch 19/40\n",
      "83/83 [==============================] - 0s 2ms/step - loss: 0.0066 - accuracy: 0.9981 - val_loss: 0.0203 - val_accuracy: 0.9981\n",
      "Epoch 20/40\n",
      "83/83 [==============================] - 0s 2ms/step - loss: 0.0059 - accuracy: 0.9981 - val_loss: 0.0217 - val_accuracy: 0.9981\n",
      "Epoch 21/40\n",
      "83/83 [==============================] - 0s 2ms/step - loss: 0.0055 - accuracy: 0.9985 - val_loss: 0.0222 - val_accuracy: 0.9981\n",
      "Epoch 22/40\n",
      "83/83 [==============================] - 0s 2ms/step - loss: 0.0049 - accuracy: 0.9990 - val_loss: 0.0238 - val_accuracy: 0.9981\n",
      "Epoch 23/40\n",
      "83/83 [==============================] - 0s 2ms/step - loss: 0.0048 - accuracy: 0.9985 - val_loss: 0.0248 - val_accuracy: 0.9981\n",
      "Epoch 24/40\n",
      "83/83 [==============================] - 0s 2ms/step - loss: 0.0045 - accuracy: 0.9990 - val_loss: 0.0262 - val_accuracy: 0.9971\n",
      "Epoch 25/40\n",
      "83/83 [==============================] - 0s 2ms/step - loss: 0.0038 - accuracy: 0.9993 - val_loss: 0.0279 - val_accuracy: 0.9981\n",
      "Epoch 26/40\n",
      "83/83 [==============================] - 0s 2ms/step - loss: 0.0036 - accuracy: 0.9993 - val_loss: 0.0288 - val_accuracy: 0.9981\n",
      "Epoch 27/40\n",
      "83/83 [==============================] - 0s 2ms/step - loss: 0.0034 - accuracy: 0.9990 - val_loss: 0.0302 - val_accuracy: 0.9981\n",
      "Epoch 28/40\n",
      "83/83 [==============================] - 0s 2ms/step - loss: 0.0030 - accuracy: 0.9995 - val_loss: 0.0327 - val_accuracy: 0.9971\n",
      "Epoch 29/40\n",
      "83/83 [==============================] - 0s 2ms/step - loss: 0.0031 - accuracy: 0.9995 - val_loss: 0.0307 - val_accuracy: 0.9981\n",
      "Epoch 30/40\n",
      "83/83 [==============================] - 0s 2ms/step - loss: 0.0026 - accuracy: 0.9993 - val_loss: 0.0320 - val_accuracy: 0.9981\n",
      "Epoch 31/40\n",
      "83/83 [==============================] - 0s 2ms/step - loss: 0.0024 - accuracy: 0.9998 - val_loss: 0.0322 - val_accuracy: 0.9981\n",
      "Epoch 32/40\n",
      "83/83 [==============================] - 0s 2ms/step - loss: 0.0021 - accuracy: 0.9995 - val_loss: 0.0329 - val_accuracy: 0.9981\n",
      "Epoch 33/40\n",
      "83/83 [==============================] - 0s 2ms/step - loss: 0.0023 - accuracy: 0.9995 - val_loss: 0.0344 - val_accuracy: 0.9981\n",
      "Epoch 34/40\n",
      "83/83 [==============================] - 0s 2ms/step - loss: 0.0017 - accuracy: 0.9998 - val_loss: 0.0361 - val_accuracy: 0.9981\n",
      "Epoch 35/40\n",
      "83/83 [==============================] - 0s 2ms/step - loss: 0.0016 - accuracy: 0.9998 - val_loss: 0.0379 - val_accuracy: 0.9971\n",
      "Epoch 36/40\n",
      "83/83 [==============================] - 0s 2ms/step - loss: 0.0019 - accuracy: 0.9993 - val_loss: 0.0376 - val_accuracy: 0.9981\n",
      "Epoch 37/40\n",
      "83/83 [==============================] - 0s 2ms/step - loss: 0.0013 - accuracy: 0.9998 - val_loss: 0.0386 - val_accuracy: 0.9981\n",
      "Epoch 38/40\n",
      "83/83 [==============================] - 0s 2ms/step - loss: 0.0013 - accuracy: 0.9998 - val_loss: 0.0399 - val_accuracy: 0.9971\n",
      "Epoch 39/40\n",
      "83/83 [==============================] - 0s 2ms/step - loss: 0.0014 - accuracy: 0.9995 - val_loss: 0.0408 - val_accuracy: 0.9981\n",
      "Epoch 40/40\n",
      "83/83 [==============================] - 0s 2ms/step - loss: 0.0013 - accuracy: 0.9998 - val_loss: 0.0427 - val_accuracy: 0.9971\n"
     ]
    }
   ],
   "source": [
    "\n",
    "#------------------------TRAINING-------------------------\n",
    "#call the pre_process function with dataframe as parameter\n",
    "processed_df=pre_process(df)\n",
    "\n",
    "#Split the preprocessed dataframe using split_scale function\n",
    "X_train, X_test, y_train, y_test=split_scale(processed_df)\n",
    "\n",
    "#Return the compiled model\n",
    "model=model_mlp()\n",
    "\n",
    "no_of_epochs=40\n",
    "\n",
    "#fit the model with X_train, y_train, epochs=40, batch_size=50,shuffle=true,validation_split=0.2,verbose=1 and return the history\n",
    "history = model.fit(X_train, y_train,batch_size=50,epochs=40,validation_split=0.2, shuffle=True,verbose=1)\n",
    "\n",
    "\n",
    "# #Extract the parameters from history to plot them\n",
    "val_loss = history.history['val_loss']\n",
    "val_acc=history.history['val_accuracy']\n",
    "loss=history.history['loss']\n",
    "acc= history.history['accuracy']\n",
    "\n",
    "#---------------------PREDICTION----------------------------------\n",
    "#Predict the classes for X_test using the compiled model. Hint:Use predict_classes\n",
    "# y_pred = model.predict(X_test)\n",
    "# y_pred=np.argmax(y_pred,axis=-1)\n",
    "y_pred = model.predict_classes(X_test)\n",
    "\n",
    "\n"
   ]
  },
  {
   "cell_type": "markdown",
   "metadata": {
    "colab_type": "text",
    "id": "P_ERKHS5eykD"
   },
   "source": [
    "### Run the below cell to visualise the plot of model history parameters"
   ]
  },
  {
   "cell_type": "code",
   "execution_count": 9,
   "metadata": {
    "colab": {},
    "colab_type": "code",
    "id": "MlyALN2Aikvj"
   },
   "outputs": [
    {
     "data": {
      "image/png": "[encoded data removed]",
      "text/plain": [
       "<Figure size 2880x504 with 2 Axes>"
      ]
     },
     "metadata": {},
     "output_type": "display_data"
    }
   ],
   "source": [
    "# plot your history\n",
    "#plot 1:Training accuracy vs validation accuracy\n",
    "#plot2 : Train Loss vs Validation Accuracy\n",
    "\n",
    "f, (ax1, ax2) = plt.subplots(1, 2, figsize=(40, 7))\n",
    "t = f.suptitle('Deep Neural Net Performance', fontsize=12)\n",
    "f.subplots_adjust(top=0.85, wspace=0.3)\n",
    "\n",
    "epochs = list(range(1,no_of_epochs+1))\n",
    "ax1.plot(epochs,acc, label='Train Accuracy')\n",
    "ax1.plot(epochs, val_acc, label='Validation Accuracy')\n",
    "ax1.set_xticks(epochs)\n",
    "ax1.set_ylabel('Accuracy Value')\n",
    "ax1.set_xlabel('Epoch')\n",
    "ax1.set_title('Accuracy')\n",
    "l1 = ax1.legend(loc=\"best\")\n",
    "\n",
    "ax2.plot(epochs,loss, label='Train Loss')\n",
    "ax2.plot(epochs, val_loss, label='Validation Loss')\n",
    "ax2.set_xticks(epochs)\n",
    "ax2.set_ylabel('Loss Value')\n",
    "ax2.set_xlabel('Epoch')\n",
    "ax2.set_title('Loss')\n",
    "l2 = ax2.legend(loc=\"best\")\n"
   ]
  },
  {
   "cell_type": "markdown",
   "metadata": {
    "colab_type": "text",
    "id": "DJVX-sn1e_gE"
   },
   "source": [
    "#### Run the below cell to know the metrics and classification report"
   ]
  },
  {
   "cell_type": "code",
   "execution_count": 11,
   "metadata": {
    "colab": {},
    "colab_type": "code",
    "id": "Kei1sfkNlDx0"
   },
   "outputs": [
    {
     "name": "stdout",
     "output_type": "stream",
     "text": [
      "Model Performance metrics:\n",
      "------------------------------\n",
      "Accuracy:  24.98% \n",
      "Precision: 6.24% \n",
      "Recall:    24.98% \n",
      "F1 Score:  9.99% \n",
      "\n",
      "Model Classification report:\n",
      "------------------------------\n",
      "              precision    recall  f1-score   support\n",
      "\n",
      "           0       0.25      1.00      0.40       323\n",
      "           1       0.00      0.00      0.00       970\n",
      "\n",
      "    accuracy                           0.25      1293\n",
      "   macro avg       0.12      0.50      0.20      1293\n",
      "weighted avg       0.06      0.25      0.10      1293\n",
      "\n",
      "\n",
      "Prediction Confusion Matrix:\n",
      "------------------------------\n",
      "     0  1\n",
      "0  323  0\n",
      "1  970  0\n",
      "       Red  White\n",
      "Red    323      0\n",
      "White  970      0\n"
     ]
    },
    {
     "name": "stderr",
     "output_type": "stream",
     "text": [
      "c:\\users\\kuro\\appdata\\local\\programs\\python\\python36\\lib\\site-packages\\sklearn\\metrics\\_classification.py:1248: UndefinedMetricWarning: Precision is ill-defined and being set to 0.0 in labels with no predicted samples. Use `zero_division` parameter to control this behavior.\n",
      "  _warn_prf(average, modifier, msg_start, len(result))\n",
      "c:\\users\\kuro\\appdata\\local\\programs\\python\\python36\\lib\\site-packages\\sklearn\\metrics\\_classification.py:1248: UndefinedMetricWarning: Precision and F-score are ill-defined and being set to 0.0 in labels with no predicted samples. Use `zero_division` parameter to control this behavior.\n",
      "  _warn_prf(average, modifier, msg_start, len(result))\n",
      "c:\\users\\kuro\\appdata\\local\\programs\\python\\python36\\lib\\site-packages\\sklearn\\metrics\\_classification.py:1248: UndefinedMetricWarning: Precision and F-score are ill-defined and being set to 0.0 in labels with no predicted samples. Use `zero_division` parameter to control this behavior.\n",
      "  _warn_prf(average, modifier, msg_start, len(result))\n",
      "c:\\users\\kuro\\appdata\\local\\programs\\python\\python36\\lib\\site-packages\\sklearn\\metrics\\_classification.py:1248: UndefinedMetricWarning: Precision and F-score are ill-defined and being set to 0.0 in labels with no predicted samples. Use `zero_division` parameter to control this behavior.\n",
      "  _warn_prf(average, modifier, msg_start, len(result))\n"
     ]
    }
   ],
   "source": [
    "\n",
    "\n",
    "\n",
    "def get_metrics(true_labels, predicted_labels):\n",
    "    \n",
    "    print('Accuracy:  {:2.2%} '.format(metrics.accuracy_score(true_labels, predicted_labels)))\n",
    "    print('Precision: {:2.2%} '.format(metrics.precision_score(true_labels, predicted_labels, average='weighted')))\n",
    "    print('Recall:    {:2.2%} '.format(metrics.recall_score(true_labels, predicted_labels, average='weighted')))\n",
    "    print('F1 Score:  {:2.2%} '.format(metrics.f1_score(true_labels, predicted_labels, average='weighted')))\n",
    "                        \n",
    "\n",
    "def display_confusion_matrix(true_labels, predicted_labels):\n",
    "    \n",
    "    \n",
    "    cm = metrics.confusion_matrix(y_true=true_labels, y_pred=predicted_labels)\n",
    "    tn, fp, fn, tp=metrics.confusion_matrix(y_true=true_labels, y_pred=predicted_labels).ravel()\n",
    "    \n",
    "\n",
    "\n",
    "    cm_frame = pd.DataFrame(data=cm, \n",
    "                            columns=[0,1], \n",
    "                            index=[0,1]) \n",
    "    cm_frame1=pd.DataFrame(data=cm, \n",
    "                            columns=['Red','White'], \n",
    "                            index=['Red','White']) \n",
    "    print(cm_frame) \n",
    "\n",
    "    print(cm_frame1)\n",
    "    \n",
    "    \n",
    "def display_classification_report(true_labels, predicted_labels):\n",
    "\n",
    "    report = metrics.classification_report(y_true=true_labels, y_pred=predicted_labels) \n",
    "    print(report)\n",
    "    \n",
    "def display_model_performance_metrics(true_labels, predicted_labels):\n",
    "    print('Model Performance metrics:')\n",
    "    print('-'*30)\n",
    "    get_metrics(true_labels=true_labels, predicted_labels=predicted_labels)\n",
    "    print('\\nModel Classification report:')\n",
    "    print('-'*30)\n",
    "    display_classification_report(true_labels=true_labels, predicted_labels=predicted_labels)\n",
    "    print('\\nPrediction Confusion Matrix:')\n",
    "    print('-'*30)\n",
    "    display_confusion_matrix(true_labels=true_labels, predicted_labels=predicted_labels)\n",
    "\n",
    "def get_results(model, name, data, true_labels, predicted_labels, results=None, reasume=False):\n",
    "  \n",
    "    display_model_performance_metrics(true_labels, predicted_labels = predicted_labels)\n",
    "    \n",
    "\n",
    "    \n",
    "\n",
    "get_results(model, 'DNN Regressor', X_test, y_test,y_pred,reasume=False)\n",
    "\n"
   ]
  },
  {
   "cell_type": "code",
   "execution_count": null,
   "metadata": {
    "colab": {},
    "colab_type": "code",
    "id": "ujarjXXvs8Xt"
   },
   "outputs": [],
   "source": []
  }
 ],
 "metadata": {
  "colab": {
   "collapsed_sections": [],
   "name": "MLP_keras_notebook.ipynb",
   "provenance": []
  },
  "kernelspec": {
   "display_name": "Python 3",
   "language": "python",
   "name": "python3"
  },
  "language_info": {
   "codemirror_mode": {
    "name": "ipython",
    "version": 3
   },
   "file_extension": ".py",
   "mimetype": "text/x-python",
   "name": "python",
   "nbconvert_exporter": "python",
   "pygments_lexer": "ipython3",
   "version": "3.6.5"
  }
 },
 "nbformat": 4,
 "nbformat_minor": 1
}
